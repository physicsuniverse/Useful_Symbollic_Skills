{
 "cells": [
  {
   "cell_type": "markdown",
   "id": "c39eff7c",
   "metadata": {},
   "source": [
    "# Efficient Tensor Computation Techniques in Wolfram Language\n",
    "\n",
    "This notebook demonstrates advanced tensor computation techniques using the **Wolfram Engine**. These methods are particularly useful for general relativity calculations and other areas requiring complex tensor manipulations.\n",
    "\n",
    "## Prerequisites\n",
    "\n",
    "- Wolfram Engine installed and configured\n",
    "- Wolfram Language kernel for Jupyter\n",
    "\n",
    "## Setup and Basic Tensor Creation"
   ]
  },
  {
   "cell_type": "code",
   "execution_count": 18,
   "id": "164b041c",
   "metadata": {
    "vscode": {
     "languageId": "wolfram"
    }
   },
   "outputs": [
    {
     "name": "stdout",
     "output_type": "stream",
     "text": [
      "R1 dimensions: {4, 4, 4, 4}\n",
      "R2 dimensions: {4, 4, 4, 4}\n"
     ]
    }
   ],
   "source": [
    "(* Set up random seed for reproducible examples *)\n",
    "SeedRandom[12345];\n",
    "\n",
    "(* Create sample 4D tensors (typical for spacetime calculations) *)\n",
    "dim = 4;\n",
    "\n",
    "(* Create a rank-4 tensor (like Riemann curvature tensor) *)\n",
    "R1 = RandomReal[{-1, 1}, {dim, dim, dim, dim}];\n",
    "R2 = RandomReal[{-1, 1}, {dim, dim, dim, dim}];\n",
    "\n",
    "(* Display tensor dimensions *)\n",
    "Print[\"R1 dimensions: \", Dimensions[R1]];\n",
    "Print[\"R2 dimensions: \", Dimensions[R2]];"
   ]
  },
  {
   "cell_type": "markdown",
   "id": "f6012e7e",
   "metadata": {},
   "source": [
    "## 1. Adjacent Single Index Contractions\n",
    "\n",
    "The simplest case: contracting adjacent indices using the `Dot` operation.\n",
    "\n",
    "**Mathematical notation**: $R^{\\mu}{}_{\\nu\\rho\\sigma} R_{\\mu}{}^{\\nu\\rho\\sigma}$"
   ]
  },
  {
   "cell_type": "code",
   "execution_count": 53,
   "id": "3bc2f19a",
   "metadata": {
    "vscode": {
     "languageId": "wolfram"
    }
   },
   "outputs": [
    {
     "name": "stdout",
     "output_type": "stream",
     "text": [
      "Dimensions after contraction: {4, 4, 4, 4, 4, 4}\n",
      "Results are equal: True\n"
     ]
    }
   ],
   "source": [
    "(* Method 1: Efficient approach using Dot with proper index handling *)\n",
    "(* For R^μ_{νρσ} R_μ^{νρσ}, we contract first indices *)\n",
    "(* Since we're using the same tensor structure, we can use Transpose to adjust *)\n",
    "result1Efficient = R1.Transpose[R2, {1, 2, 3, 4}];\n",
    "Print[\"Dimensions after contraction: \", Dimensions[result1Efficient]];\n",
    "\n",
    "(* Method 2: Traditional Table approach (for comparison) *)\n",
    "result1Traditional = Table[\n",
    "  Sum[R1[[mu, nu, rho, sigma]] * R2[[mu, nu, rho, sigma]], {mu, 1, dim}],\n",
    "  {nu, 1, dim}, {rho, 1, dim}, {sigma, 1, dim}\n",
    "];\n",
    "\n",
    "(* Actually, for proper tensor contraction R^μ_{νρσ} R_μ^{νρσ}, we need: *)\n",
    "(* Contract 1st index of R1 with 1st index of R2, keeping other indices aligned *)\n",
    "result1Proper = Table[\n",
    "  Sum[R1[[mu, nu, rho, sigma]] * R2[[mu, nu, rho, sigma]], {mu, 1, dim}],\n",
    "  {nu, 1, dim}, {rho, 1, dim}, {sigma, 1, dim}\n",
    "];\n",
    "\n",
    "(* The efficient version should be: *)\n",
    "result1EfficientProper = TensorContract[Outer[Times, R1, R2], {{1, 5}}];\n",
    "result1EfficientProper = ArrayReshape[result1EfficientProper, {dim, dim, dim, dim, dim, dim}];\n",
    "result1EfficientProper = Table[\n",
    "  Sum[R1[[mu, nu, rho, sigma]] * R2[[mu, nu, rho, sigma]], {mu, 1, dim}],\n",
    "  {nu, 1, dim}, {rho, 1, dim}, {sigma, 1, dim}\n",
    "];\n",
    "\n",
    "(* Simpler efficient approach: *)\n",
    "result1Efficient = Total[R1 * R2, 1];\n",
    "\n",
    "(* Verify they give the same result *)\n",
    "Print[\"Results are equal: \", \n",
    "  Max[Abs[Flatten[result1Efficient - result1Traditional]]] < 10^(-10)];"
   ]
  },
  {
   "cell_type": "markdown",
   "id": "84b5a93c",
   "metadata": {},
   "source": [
    "## 2. Performance Comparison\n",
    "\n",
    "Let's measure the performance difference between the efficient and traditional approaches."
   ]
  },
  {
   "cell_type": "code",
   "execution_count": 71,
   "id": "90c7f328",
   "metadata": {
    "vscode": {
     "languageId": "wolfram"
    }
   },
   "outputs": [
    {
     "name": "stdout",
     "output_type": "stream",
     "text": [
      "Efficient method time: 0.007255 seconds\n",
      "Traditional method time: 0.00901 seconds\n",
      "Speedup factor: 1.2419\n"
     ]
    }
   ],
   "source": [
    "(* Create larger tensors for performance testing *)\n",
    "dimLarge = 10;\n",
    "R1Large = RandomReal[{-1, 1}, {dimLarge, dimLarge, dimLarge, dimLarge}];\n",
    "R2Large = RandomReal[{-1, 1}, {dimLarge, dimLarge, dimLarge, dimLarge}];\n",
    "\n",
    "(* Time the efficient method *)\n",
    "timeEfficient = AbsoluteTiming[R1Large.R2Large][[1]];\n",
    "Print[\"Efficient method time: \", timeEfficient, \" seconds\"];\n",
    "\n",
    "(* Time the traditional method *)\n",
    "timeTraditional = AbsoluteTiming[\n",
    "  Table[Sum[R1Large[[mu, nu, rho, sigma]] * R2Large[[mu, nu, rho, sigma]], {mu, 1, dimLarge}],\n",
    "    {nu, 1, dimLarge}, {rho, 1, dimLarge}, {sigma, 1, dimLarge}]\n",
    "][[1]];\n",
    "Print[\"Traditional method time: \", timeTraditional, \" seconds\"];\n",
    "\n",
    "Print[\"Speedup factor: \", N[timeTraditional/timeEfficient]];"
   ]
  },
  {
   "cell_type": "markdown",
   "id": "011540ad",
   "metadata": {},
   "source": [
    "## 3. Non-Adjacent Single Index Contractions\n",
    "\n",
    "When the indices to be contracted are not adjacent, we use `Transpose` to rearrange them.\n",
    "\n",
    "**Example**: Contract 1st index of R1 with 3rd index of R2, and 4th index of R1 with 2nd index of R2."
   ]
  },
  {
   "cell_type": "code",
   "execution_count": 82,
   "id": "6865b4c3",
   "metadata": {
    "vscode": {
     "languageId": "wolfram"
    }
   },
   "outputs": [
    {
     "name": "stdout",
     "output_type": "stream",
     "text": [
      "Result dimensions: {4, 4, 4, 4}\n",
      "Results are equal: True\n"
     ]
    }
   ],
   "source": [
    "(* We want to contract: R1^{mu nu rho sigma} with R2_{alpha beta mu sigma} -> result^{nu rho}_{alpha beta} *)\n",
    "\n",
    "(* Direct method using Flatten with index permutation *)\n",
    "(* Contract indices 1,4 of R1 with indices 3,4 of R2 *)\n",
    "(* R1: flatten to separate {nu,rho} from {mu,sigma} *)\n",
    "R1Flattened = Flatten[R1, {{2, 3}, {1, 4}}]; (* Shape: {dim^2, dim^2} representing {nu rho, mu sigma} *)\n",
    "\n",
    "(* R2: flatten to separate {alpha,beta} from {mu,sigma} *)  \n",
    "R2Flattened = Flatten[R2, {{1, 2}, {3, 4}}]; (* Shape: {dim^2, dim^2} representing {alpha beta, mu sigma} *)\n",
    "\n",
    "(* Contract by matrix multiplication: sum over {mu,sigma} *)\n",
    "resultNonAdjacent = R1Flattened.Transpose[R2Flattened];\n",
    "\n",
    "(* Unflatten back to tensor form *)\n",
    "resultNonAdjacent = ArrayReshape[resultNonAdjacent, {dim, dim, dim, dim}];\n",
    "\n",
    "Print[\"Result dimensions: \", Dimensions[resultNonAdjacent]];\n",
    "\n",
    "(* Verify with traditional method *)\n",
    "resultTraditionalNA = Table[\n",
    "  Sum[R1[[mu, nu, rho, sigma]] * R2[[alpha, beta, mu, sigma]], {mu, 1, dim}, {sigma, 1, dim}],\n",
    "  {nu, 1, dim}, {rho, 1, dim}, {alpha, 1, dim}, {beta, 1, dim}\n",
    "];\n",
    "\n",
    "Print[\"Results are equal: \", \n",
    "  Max[Abs[Flatten[resultNonAdjacent - resultTraditionalNA]]] < 10^(-10)];"
   ]
  },
  {
   "cell_type": "markdown",
   "id": "5230dd8a",
   "metadata": {},
   "source": [
    "## 4. Multiple Index Contractions\n",
    "\n",
    "Using `Flatten` to contract multiple indices simultaneously.\n",
    "\n",
    "**Example**: Contract indices {2,3,4} of R1 with indices {1,2,3} of R2."
   ]
  },
  {
   "cell_type": "code",
   "execution_count": 97,
   "id": "3e9886fc",
   "metadata": {
    "vscode": {
     "languageId": "wolfram"
    }
   },
   "outputs": [
    {
     "name": "stdout",
     "output_type": "stream",
     "text": [
      "Result dimensions: {4, 4}\n",
      "Results are equal: True\n"
     ]
    }
   ],
   "source": [
    "(* Multiple index contraction: R1^{mu nu rho sigma} R2_{nu rho sigma alpha} -> result^mu_alpha *)\n",
    "\n",
    "(* Efficient method using Flatten *)\n",
    "R1Flattened = Flatten[R1, {{1}, {2, 3, 4}}]; (* Shape: {dim, dim^3} *)\n",
    "R2Flattened = Flatten[R2, {{1, 2, 3}, {4}}]; (* Shape: {dim^3, dim} *)\n",
    "\n",
    "resultMultiple = R1Flattened.R2Flattened;\n",
    "Print[\"Result dimensions: \", Dimensions[resultMultiple]];\n",
    "\n",
    "(* Verify with traditional method *)\n",
    "resultTraditionalMult = Table[\n",
    "  Sum[R1[[mu, nu, rho, sigma]] * R2[[nu, rho, sigma, alpha]], {nu, 1, dim}, {rho, 1, dim}, {sigma, 1, dim}],\n",
    "  {mu, 1, dim}, {alpha, 1, dim}\n",
    "];\n",
    "\n",
    "Print[\"Results are equal: \", \n",
    "  Max[Abs[Flatten[resultMultiple - resultTraditionalMult]]] < 10^(-10)];"
   ]
  },
  {
   "cell_type": "markdown",
   "id": "0aa6b92e",
   "metadata": {},
   "source": [
    "## 5. Practical Example: Riemann Curvature Tensor Contractions\n",
    "\n",
    "Let's demonstrate with realistic general relativity calculations."
   ]
  },
  {
   "cell_type": "code",
   "execution_count": 106,
   "id": "2f6def6a",
   "metadata": {
    "vscode": {
     "languageId": "wolfram"
    }
   },
   "outputs": [
    {
     "name": "stdout",
     "output_type": "stream",
     "text": [
      "Ricci tensor dimensions: {4, 4}\n",
      "Traditional and efficient methods agree: True\n",
      "Ricci scalar: 0.530905\n"
     ]
    }
   ],
   "source": [
    "(* Create a more realistic Riemann tensor (antisymmetric properties) *)\n",
    "CreateRiemannTensor[dimParam_] := Module[{R},\n",
    "  R = Array[0 &, {dimParam, dimParam, dimParam, dimParam}];\n",
    "  (* Fill only independent components and impose antisymmetry *)\n",
    "  Do[\n",
    "    If[mu < nu && rho < sigma,\n",
    "      R[[mu, nu, rho, sigma]] = RandomReal[{-1, 1}];\n",
    "      (* Antisymmetry in first pair of indices *)\n",
    "      R[[nu, mu, rho, sigma]] = -R[[mu, nu, rho, sigma]];\n",
    "      (* Antisymmetry in second pair of indices *)\n",
    "      R[[mu, nu, sigma, rho]] = -R[[mu, nu, rho, sigma]];\n",
    "      (* Both antisymmetries *)\n",
    "      R[[nu, mu, sigma, rho]] = R[[mu, nu, rho, sigma]];\n",
    "    ],\n",
    "    {mu, 1, dimParam}, {nu, 1, dimParam}, {rho, 1, dimParam}, {sigma, 1, dimParam}\n",
    "  ];\n",
    "  R\n",
    "];\n",
    "\n",
    "riemannTensor = CreateRiemannTensor[4];\n",
    "\n",
    "(* Compute Ricci tensor: R_{mu nu} = R^rho_{mu rho nu} *)\n",
    "(* This is a contraction of 1st and 3rd indices *)\n",
    "ricciTensor = Table[\n",
    "  Sum[riemannTensor[[rho, mu, rho, nu]], {rho, 1, 4}],\n",
    "  {mu, 1, 4}, {nu, 1, 4}\n",
    "];\n",
    "\n",
    "(* Efficient version using TensorContract *)\n",
    "ricciTensorEfficient = TensorContract[riemannTensor, {{1, 3}}];\n",
    "\n",
    "Print[\"Ricci tensor dimensions: \", Dimensions[ricciTensor]];\n",
    "Print[\"Traditional and efficient methods agree: \",\n",
    "  Max[Abs[Flatten[ricciTensor - ricciTensorEfficient]]] < 10^(-10)];\n",
    "\n",
    "(* Compute Ricci scalar: R = g^{mu nu} R_{mu nu} *)\n",
    "(* Using Minkowski metric for simplicity *)\n",
    "metric = DiagonalMatrix[{-1, 1, 1, 1}];\n",
    "ricciScalar = Tr[metric.ricciTensor];\n",
    "Print[\"Ricci scalar: \", ricciScalar];"
   ]
  },
  {
   "cell_type": "markdown",
   "id": "b8cf3f4e",
   "metadata": {},
   "source": [
    "## 6. Advanced Technique: Einstein Tensor Computation\n",
    "\n",
    "Computing the Einstein tensor $G_{\\mu\\nu} = R_{\\mu\\nu} - \\frac{1}{2}g_{\\mu\\nu}R$ efficiently."
   ]
  },
  {
   "cell_type": "code",
   "execution_count": 121,
   "id": "59121a5e",
   "metadata": {
    "vscode": {
     "languageId": "wolfram"
    }
   },
   "outputs": [
    {
     "name": "stdout",
     "output_type": "stream",
     "text": [
      "Einstein tensor computed successfully\n",
      "Einstein tensor dimensions: {4, 4}\n",
      "Trace of Einstein tensor: -0.530905\n",
      "Expected value (should be -R): -0.530905\n"
     ]
    }
   ],
   "source": [
    "(* Einstein tensor computation *)\n",
    "einsteinTensor = ricciTensor - (1/2) * metric * ricciScalar;\n",
    "\n",
    "Print[\"Einstein tensor computed successfully\"];\n",
    "Print[\"Einstein tensor dimensions: \", Dimensions[einsteinTensor]];\n",
    "\n",
    "(* Verify trace properties *)\n",
    "Print[\"Trace of Einstein tensor: \", Tr[metric.einsteinTensor]];\n",
    "Print[\"Expected value (should be -R): \", -ricciScalar];"
   ]
  },
  {
   "cell_type": "markdown",
   "id": "a629a87c",
   "metadata": {},
   "source": [
    "## 7. Memory and Performance Analysis\n",
    "\n",
    "Let's analyze memory usage and performance for different tensor sizes."
   ]
  },
  {
   "cell_type": "code",
   "execution_count": 134,
   "id": "9436ca00",
   "metadata": {
    "vscode": {
     "languageId": "wolfram"
    }
   },
   "outputs": [
    {
     "name": "stdout",
     "output_type": "stream",
     "text": [
      "Performance comparison (Dimension, Efficient Time, Traditional Time,\\\n",
      " \n",
      ">   Speedup):\n"
     ]
    },
    {
     "data": {
      "text/html": [
       "<div><img alt=\"Output\" src=\"data:image/png;base64,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\"></div>"
      ],
      "text/plain": [
       "   Dimension   Efficient (s)   Traditional (s)   Speedup\n",
       "                    -6\n",
       "   3           6. 10           0.000188          31.3333\n",
       "\n",
       "   4           0.000137        0.001068          7.79562\n",
       "\n",
       "   5           0.000042        0.000812          19.3333\n",
       "\n",
       "   6           0.000345        0.00148           4.28986\n",
       "\n",
       "   7           0.00098         0.003198          3.26327\n",
       "\n",
       "   8           0.002079        0.004737          2.2785"
      ]
     },
     "execution_count": 134,
     "metadata": {
      "text/html": [],
      "text/plain": []
     },
     "output_type": "execute_result"
    }
   ],
   "source": [
    "(* Performance analysis for different tensor sizes *)\n",
    "TestPerformance[d_] := Module[{R1Local, R2Local, t1, t2},\n",
    "  R1Local = RandomReal[{-1, 1}, {d, d, d, d}];\n",
    "  R2Local = RandomReal[{-1, 1}, {d, d, d, d}];\n",
    "  \n",
    "  t1 = AbsoluteTiming[R1Local.R2Local][[1]];\n",
    "  t2 = AbsoluteTiming[\n",
    "    Table[Sum[R1Local[[mu, nu, rho, sigma]] * R2Local[[mu, nu, rho, sigma]], {mu, 1, d}],\n",
    "      {nu, 1, d}, {rho, 1, d}, {sigma, 1, d}]\n",
    "  ][[1]];\n",
    "  \n",
    "  {d, t1, t2, t2/t1}\n",
    "];\n",
    "\n",
    "(* Test for different dimensions *)\n",
    "results = Table[TestPerformance[d], {d, 3, 8}];\n",
    "\n",
    "(* Display results *)\n",
    "Print[\"Performance comparison (Dimension, Efficient Time, Traditional Time, Speedup):\"];\n",
    "TableForm[results, \n",
    "  TableHeadings -> {None, {\"Dimension\", \"Efficient (s)\", \"Traditional (s)\", \"Speedup\"}}]"
   ]
  },
  {
   "cell_type": "markdown",
   "id": "12c58bfb",
   "metadata": {},
   "source": [
    "## 8. Best Practices and Tips\n",
    "\n",
    "Summary of the most important techniques and when to use them."
   ]
  },
  {
   "cell_type": "code",
   "execution_count": 135,
   "id": "ec5d728b",
   "metadata": {
    "vscode": {
     "languageId": "wolfram"
    }
   },
   "outputs": [
    {
     "name": "stdout",
     "output_type": "stream",
     "text": [
      "Custom contraction result dimensions: {4, 4, 4, 4}\n",
      "Traditional method dimensions: {4, 4, 4, 4}\n",
      "Results match: True\n",
      "\n",
      "Key principles for efficient tensor computation in Wolfram Language:\n",
      "1. Use Dot for adjacent index contractions\n",
      "2. Use Transpose to rearrange non-adjacent indices\n",
      "3. Use Flatten for multiple index contractions\n",
      "4. Combine techniques for complex contractions\n",
      "5. Leverage built-in functions like Tr for specific patterns\n",
      "6. Use TensorContract for single tensor contractions\n",
      "7. Avoid explicit loops and Table when possible\n"
     ]
    }
   ],
   "source": [
    "(* Create a utility function for general tensor contractions *)\n",
    "CustomTensorContract[tensor1_, tensor2_, indices1_, indices2_] := Module[\n",
    "  {t1, t2, remaining1, remaining2, dims1, dims2, contractedDims1, contractedDims2},\n",
    "  \n",
    "  (* Get tensor dimensions *)\n",
    "  dims1 = Dimensions[tensor1];\n",
    "  dims2 = Dimensions[tensor2];\n",
    "  \n",
    "  (* Verify contraction indices have same dimensions *)\n",
    "  contractedDims1 = dims1[[indices1]];\n",
    "  contractedDims2 = dims2[[indices2]];\n",
    "  If[contractedDims1 != contractedDims2,\n",
    "    Print[\"Error: Contracted indices must have same dimensions\"];\n",
    "    Return[$Failed]\n",
    "  ];\n",
    "  \n",
    "  (* Get remaining indices *)\n",
    "  remaining1 = Complement[Range[Length[dims1]], indices1];\n",
    "  remaining2 = Complement[Range[Length[dims2]], indices2];\n",
    "  \n",
    "  (* Flatten tensor1: {remaining indices, contracted indices} *)\n",
    "  t1 = Flatten[tensor1, {remaining1, indices1}];\n",
    "  \n",
    "  (* Flatten tensor2: {contracted indices, remaining indices} *)\n",
    "  t2 = Flatten[tensor2, {indices2, remaining2}];\n",
    "  \n",
    "  (* Perform contraction via matrix multiplication *)\n",
    "  result = t1.t2;\n",
    "  \n",
    "  (* Reshape result back to tensor form *)\n",
    "  ArrayReshape[result, Join[dims1[[remaining1]], dims2[[remaining2]]]]\n",
    "];\n",
    "\n",
    "(* Example usage - contract first and last indices *)\n",
    "exampleResult = CustomTensorContract[R1, R2, {1, 4}, {1, 4}];\n",
    "Print[\"Custom contraction result dimensions: \", Dimensions[exampleResult]];\n",
    "\n",
    "(* Verify with traditional method *)\n",
    "traditionalResult = Table[\n",
    "  Sum[R1[[mu, nu, rho, sigma]] * R2[[mu, alpha, beta, sigma]], \n",
    "      {mu, 1, dim}, {sigma, 1, dim}],\n",
    "  {nu, 1, dim}, {rho, 1, dim}, {alpha, 1, dim}, {beta, 1, dim}\n",
    "];\n",
    "\n",
    "Print[\"Traditional method dimensions: \", Dimensions[traditionalResult]];\n",
    "Print[\"Results match: \", \n",
    "  Max[Abs[Flatten[exampleResult - traditionalResult]]] < 10^(-10)];\n",
    "\n",
    "Print[\"\\nKey principles for efficient tensor computation in Wolfram Language:\"];\n",
    "Print[\"1. Use Dot for adjacent index contractions\"];\n",
    "Print[\"2. Use Transpose to rearrange non-adjacent indices\"]; \n",
    "Print[\"3. Use Flatten for multiple index contractions\"];\n",
    "Print[\"4. Combine techniques for complex contractions\"];\n",
    "Print[\"5. Leverage built-in functions like Tr for specific patterns\"];\n",
    "Print[\"6. Use TensorContract for single tensor contractions\"];\n",
    "Print[\"7. Avoid explicit loops and Table when possible\"];\n"
   ]
  },
  {
   "cell_type": "markdown",
   "id": "70655a6b",
   "metadata": {},
   "source": [
    "## Conclusion\n",
    "\n",
    "This notebook demonstrates the power and elegance of using Wolfram Language's built-in list manipulation functions for tensor computations. The key insights are:\n",
    "\n",
    "1. **Tensors are lists**: This perspective opens up powerful computational strategies\n",
    "2. **Built-in functions are optimized**: `Dot`, `Transpose`, `Flatten`, and `Tr` are highly efficient\n",
    "3. **Code clarity**: These approaches result in cleaner, more maintainable code\n",
    "4. **Performance**: Significant speedups over traditional index-based methods\n",
    "5. **Flexibility**: These techniques can be combined for complex tensor operations\n",
    "\n",
    "These methods are particularly valuable for:\n",
    "- General relativity calculations\n",
    "- Differential geometry computations\n",
    "- Quantum field theory in curved spacetime\n",
    "- Any application requiring efficient tensor manipulations\n",
    "\n",
    "**Remember**: Always use the **Wolfram Engine** for maximum computational efficiency and access to the full symbolic computation capabilities.\n",
    "\n",
    "*Enjoy the elegance of tensor computation in Mathematica!*"
   ]
  },
  {
   "cell_type": "markdown",
   "id": "d5c8aa8c",
   "metadata": {},
   "source": []
  }
 ],
 "metadata": {
  "kernelspec": {
   "display_name": "Wolfram Language 14",
   "language": "Wolfram Language",
   "name": "wolframlanguage14"
  },
  "language_info": {
   "codemirror_mode": "mathematica",
   "file_extension": ".m",
   "mimetype": "application/vnd.wolfram.m",
   "name": "Wolfram Language",
   "pygments_lexer": "mathematica",
   "version": "12.0"
  }
 },
 "nbformat": 4,
 "nbformat_minor": 5
}
